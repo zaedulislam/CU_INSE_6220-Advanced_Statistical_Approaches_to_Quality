{
  "nbformat": 4,
  "nbformat_minor": 0,
  "metadata": {
    "colab": {
      "provenance": [],
      "collapsed_sections": [],
      "include_colab_link": true
    },
    "kernelspec": {
      "name": "python3",
      "display_name": "Python 3"
    }
  },
  "cells": [
    {
      "cell_type": "markdown",
      "metadata": {
        "id": "view-in-github",
        "colab_type": "text"
      },
      "source": [
        "<a href=\"https://colab.research.google.com/github/zaedulislam/ConU_INSE_6220-Advanced_Statistical_Approaches_to_Quality/blob/main/Tutorial%201.ipynb\" target=\"_parent\"><img src=\"https://colab.research.google.com/assets/colab-badge.svg\" alt=\"Open In Colab\"/></a>"
      ]
    },
    {
      "cell_type": "markdown",
      "metadata": {
        "id": "d1cYGd05Or4T"
      },
      "source": [
        "# Import Python Libraries"
      ]
    },
    {
      "cell_type": "code",
      "metadata": {
        "id": "rbhqOKzROGlk",
        "outputId": "bf8fae8a-4488-4470-889f-e0f6fe7b849b",
        "colab": {
          "base_uri": "https://localhost:8080/"
        }
      },
      "source": [
        "import numpy as np\n",
        "\n",
        "import matplotlib.pyplot as plt\n",
        "\n",
        "from scipy.stats import mode, iqr, t, probplot, ttest_1samp\n",
        "\n",
        "# import statistics\n",
        "# from scipy.stats import binom, poisson, norm\n",
        "\n",
        "\n",
        "\n",
        "# use seaborn plotting style defaults\n",
        "# import seaborn as sns; sns.set()\n",
        "\n",
        "# Open source data analysis and manipulation library for Python\n",
        "# import pandas as pd\n",
        "\n",
        "# The exclamation mark is used for executing commands from the underlying operating system\n",
        "!python --version"
      ],
      "execution_count": 140,
      "outputs": [
        {
          "output_type": "stream",
          "name": "stdout",
          "text": [
            "Python 3.7.14\n"
          ]
        }
      ]
    },
    {
      "cell_type": "markdown",
      "metadata": {
        "id": "-2mZMS_tQyig"
      },
      "source": [
        "# Descriptive Statistics\n"
      ]
    },
    {
      "cell_type": "markdown",
      "source": [
        "## Measures of Central Tendency"
      ],
      "metadata": {
        "id": "kNnojPaeVtIo"
      }
    },
    {
      "cell_type": "markdown",
      "source": [
        "### Sample of n measurements or observations"
      ],
      "metadata": {
        "id": "tpzw2eo8UVD-"
      }
    },
    {
      "cell_type": "code",
      "metadata": {
        "id": "Xe36pdJCQ87G"
      },
      "source": [
        "X = np.array([10, 10, 6, 12, 6, 9, 16, 20, 11, 10, 11, 11, 9, 12, 11])\n",
        "#X = np.array([23, 4, 29, 44, 47, 24, 40, 23, 23, 44, 33, 27, 60, 46, 61, 11, 23, 62, 31, 44, 77, 14, 65, 42])\n",
        "#X = np.array([99, 85, 86, 71, 82, 95, 108, 87, 89, 89, 78, 86])\n",
        "#X = np.array([12, 12, 12, 14, 15, 16, 16, 16, 16, 17, 17, 18, 18, 18, 19, 19, 20, 20, 20, 20, \n",
        "#              20, 20, 20, 20, 21, 21, 21, 22, 22, 23, 23, 23, 24, 24, 25, 26, 26, 28, 28, 28])\t\t\t  \n",
        "#X = np.random.poisson(35, 15)"
      ],
      "execution_count": 141,
      "outputs": []
    },
    {
      "cell_type": "markdown",
      "source": [
        "### Sample Range\n",
        "Range of values (maximum - minimum) along an axis.\n",
        "The name of the function comes from the acronym for ‘peak to peak’."
      ],
      "metadata": {
        "id": "hBQ2UUmSQKGF"
      }
    },
    {
      "cell_type": "code",
      "source": [
        "R = np.ptp(X)"
      ],
      "metadata": {
        "id": "NagdacvfQM3Q"
      },
      "execution_count": 142,
      "outputs": []
    },
    {
      "cell_type": "markdown",
      "source": [
        "### Sample Mean or Arithmatic Average"
      ],
      "metadata": {
        "id": "FQO6rcSmTRnM"
      }
    },
    {
      "cell_type": "code",
      "source": [
        "Xbar = np.mean(X) "
      ],
      "metadata": {
        "id": "oefqbuEyTjCy"
      },
      "execution_count": 143,
      "outputs": []
    },
    {
      "cell_type": "markdown",
      "source": [
        "### Sample Median (denoted by Q2)"
      ],
      "metadata": {
        "id": "kyOh6dqxUBAa"
      }
    },
    {
      "cell_type": "code",
      "source": [
        "Q2 = np.median(X) "
      ],
      "metadata": {
        "id": "AOzhVv3RUHbW"
      },
      "execution_count": 144,
      "outputs": []
    },
    {
      "cell_type": "code",
      "source": [
        "print(\"Range (R) = {0:.2f}, Sample Mean (Xbar) = {1:.2f}, Sample Median (Q2) = {2:.2f}\".format(R, Xbar, Q2))"
      ],
      "metadata": {
        "id": "iDkSD4I1Uggb",
        "outputId": "de2713cf-643c-4f20-b9eb-3ecf0b21f1ad",
        "colab": {
          "base_uri": "https://localhost:8080/"
        }
      },
      "execution_count": 129,
      "outputs": [
        {
          "output_type": "stream",
          "name": "stdout",
          "text": [
            "Range (R) = 14.00, Sample Mean (Xbar) = 10.93, Sample Median (Q2) = 11.00\n"
          ]
        }
      ]
    },
    {
      "cell_type": "markdown",
      "source": [
        "### Sample Mode"
      ],
      "metadata": {
        "id": "cRsuPR34VgMo"
      }
    },
    {
      "cell_type": "code",
      "source": [
        "M = mode(X) \n",
        "print(M)\n",
        "print(\"The mode is {} with a count of {}\".format(M.mode[0], M.count[0]))"
      ],
      "metadata": {
        "id": "Ukn2AkX3ViUy",
        "outputId": "b4ecb7b2-fb77-4904-d31d-a964801715c7",
        "colab": {
          "base_uri": "https://localhost:8080/"
        }
      },
      "execution_count": 147,
      "outputs": [
        {
          "output_type": "stream",
          "name": "stdout",
          "text": [
            "ModeResult(mode=array([11]), count=array([4]))\n",
            "The mode is 11 with a count of 4\n"
          ]
        }
      ]
    },
    {
      "cell_type": "code",
      "metadata": {
        "id": "Alp1B9ibSw1y",
        "colab": {
          "base_uri": "https://localhost:8080/"
        },
        "outputId": "7c89b3c1-bde7-4ef3-e7eb-4e504ca330c8"
      },
      "source": [
        "Q1 = np.percentile(a=X, q=25)\n",
        "Q3 = np.percentile(a=X, q=75)\n",
        "\n",
        "# Interquantile range, IQR = Q3-Q1\n",
        "IQR = iqr(X) \n",
        "print('Quartile 1 (Q1) = {0:.2f}, Quartile 3 (Q3) = {1:.2f}, Iterquartile Range (IQR) = {2:.2f}'.format(Q1, Q3, IQR))"
      ],
      "execution_count": 148,
      "outputs": [
        {
          "output_type": "stream",
          "name": "stdout",
          "text": [
            "Quartile 1 (Q1) = 9.50, Quartile 3 (Q3) = 11.50, Iterquartile Range (IQR) = 2.00\n"
          ]
        }
      ]
    },
    {
      "cell_type": "markdown",
      "source": [
        "## Measures of Spread"
      ],
      "metadata": {
        "id": "LzYRmJsuqC8b"
      }
    },
    {
      "cell_type": "markdown",
      "source": [
        "## Sample Variance"
      ],
      "metadata": {
        "id": "vWmd1cCZrBdf"
      }
    },
    {
      "cell_type": "code",
      "source": [
        "var = np.var(X, ddof=1)"
      ],
      "metadata": {
        "id": "1GPrRgIIrDsA"
      },
      "execution_count": 132,
      "outputs": []
    },
    {
      "cell_type": "markdown",
      "source": [
        "## Sample Standard Deviation"
      ],
      "metadata": {
        "id": "dPP_P-RsrHvI"
      }
    },
    {
      "cell_type": "code",
      "source": [
        "s = np.std(X, ddof=1) \n",
        "print('Sample variance = {0:.2f}, Sample standard deviation = {1:.2f}'.format(var, s))"
      ],
      "metadata": {
        "id": "2Xi0Al2fqFrA",
        "outputId": "cf303f0b-b032-490d-dc3c-14ee50cd1316",
        "colab": {
          "base_uri": "https://localhost:8080/"
        }
      },
      "execution_count": 133,
      "outputs": [
        {
          "output_type": "stream",
          "name": "stdout",
          "text": [
            "Sample variance = 12.07, Sample standard deviation = 3.47\n"
          ]
        }
      ]
    },
    {
      "cell_type": "markdown",
      "source": [
        "# Data Visualization"
      ],
      "metadata": {
        "id": "Vvt3Wo7ubN0o"
      }
    },
    {
      "cell_type": "markdown",
      "metadata": {
        "id": "IArkk8qGTfNR"
      },
      "source": [
        "## Bar chart"
      ]
    },
    {
      "cell_type": "code",
      "metadata": {
        "id": "5Z5cx5dAThiw",
        "colab": {
          "base_uri": "https://localhost:8080/",
          "height": 611
        },
        "outputId": "f2c06b18-10f1-4862-95a5-c55ae8bdd48c"
      },
      "source": [
        "# The following data gives the number of defective motors received in 24 shipments\n",
        "X = np.array([23, 4, 29, 44, 47, 24, 40, 23, 23, 44, 33, 27, 60, 46, 61, 11, 23, 62, 31, 44, 77, 14, 65, 42])\n",
        "\n",
        "# Define the figure size\n",
        "plt.figure(figsize=(16, 9))\n",
        "\n",
        "print(\"Sample size: \", len(X))\n",
        "\n",
        "# Return evenly spaced values within a given interval\n",
        "print(\"X coordinates:\", np.arange(len(X)))\n",
        "\n",
        "plt.bar(x=np.arange(len(X)), height=X)\n",
        "\n",
        "plt.xlabel(\"Shipment Number\")\n",
        "plt.ylabel(\"Number of Defective Motors\")"
      ],
      "execution_count": 153,
      "outputs": [
        {
          "output_type": "stream",
          "name": "stdout",
          "text": [
            "Sample size:  24\n",
            "X coordinates: [ 0  1  2  3  4  5  6  7  8  9 10 11 12 13 14 15 16 17 18 19 20 21 22 23]\n"
          ]
        },
        {
          "output_type": "execute_result",
          "data": {
            "text/plain": [
              "Text(0, 0.5, 'Number of Defective Motors')"
            ]
          },
          "metadata": {},
          "execution_count": 153
        },
        {
          "output_type": "display_data",
          "data": {
            "text/plain": [
              "<Figure size 1152x648 with 1 Axes>"
            ],
            "image/png": "[encoded data removed]"
          },
          "metadata": {}
        }
      ]
    },
    {
      "cell_type": "markdown",
      "metadata": {
        "id": "AD5pi3DZT9j4"
      },
      "source": [
        "## Histogram \n",
        "A special bar chart"
      ]
    },
    {
      "cell_type": "code",
      "metadata": {
        "id": "D2k3kFTTT_wf",
        "colab": {
          "base_uri": "https://localhost:8080/",
          "height": 575
        },
        "outputId": "69442ea0-39d0-497c-8bad-276d161233ea"
      },
      "source": [
        "plt.hist(x=X, bins=len(X), density=True)\n",
        "plt.xlabel('Defects')\n",
        "plt.ylabel('Relative frequency')"
      ],
      "execution_count": 154,
      "outputs": [
        {
          "output_type": "execute_result",
          "data": {
            "text/plain": [
              "Text(0, 0.5, 'Relative frequency')"
            ]
          },
          "metadata": {},
          "execution_count": 154
        },
        {
          "output_type": "display_data",
          "data": {
            "text/plain": [
              "<Figure size 1152x648 with 1 Axes>"
            ],
            "image/png": "[encoded data removed]"
          },
          "metadata": {}
        }
      ]
    },
    {
      "cell_type": "markdown",
      "metadata": {
        "id": "rauujKlCUKKX"
      },
      "source": [
        "## Boxplot"
      ]
    },
    {
      "cell_type": "code",
      "metadata": {
        "id": "C7JRJUhLUMov",
        "colab": {
          "base_uri": "https://localhost:8080/",
          "height": 683
        },
        "outputId": "4240cdd6-1ac5-468c-d4ac-b4ac0f238ec5"
      },
      "source": [
        "plt.boxplot(x=X, vert=True)"
      ],
      "execution_count": 164,
      "outputs": [
        {
          "output_type": "execute_result",
          "data": {
            "text/plain": [
              "{'whiskers': [<matplotlib.lines.Line2D at 0x7fe476addbd0>,\n",
              "  <matplotlib.lines.Line2D at 0x7fe476a3ed50>],\n",
              " 'caps': [<matplotlib.lines.Line2D at 0x7fe47a273d50>,\n",
              "  <matplotlib.lines.Line2D at 0x7fe476a75b90>],\n",
              " 'boxes': [<matplotlib.lines.Line2D at 0x7fe476c230d0>],\n",
              " 'medians': [<matplotlib.lines.Line2D at 0x7fe476c07790>],\n",
              " 'fliers': [<matplotlib.lines.Line2D at 0x7fe4773dbad0>],\n",
              " 'means': []}"
            ]
          },
          "metadata": {},
          "execution_count": 164
        },
        {
          "output_type": "display_data",
          "data": {
            "text/plain": [
              "<Figure size 1152x648 with 1 Axes>"
            ],
            "image/png": "[encoded data removed]"
          },
          "metadata": {}
        }
      ]
    },
    {
      "cell_type": "code",
      "source": [
        "sns.boxplot(data=X, orient=\"v\", width=.2, palette=\"Set2\")"
      ],
      "metadata": {
        "id": "cq7Bxs2-t1o-",
        "outputId": "a153185d-d4c2-4b69-c60a-05d26d9adec2",
        "colab": {
          "base_uri": "https://localhost:8080/",
          "height": 558
        }
      },
      "execution_count": 161,
      "outputs": [
        {
          "output_type": "execute_result",
          "data": {
            "text/plain": [
              "<matplotlib.axes._subplots.AxesSubplot at 0x7fe476392cd0>"
            ]
          },
          "metadata": {},
          "execution_count": 161
        },
        {
          "output_type": "display_data",
          "data": {
            "text/plain": [
              "<Figure size 1152x648 with 1 Axes>"
            ],
            "image/png": "[encoded data removed]"
          },
          "metadata": {}
        }
      ]
    },
    {
      "cell_type": "markdown",
      "source": [
        "## Stem-and-Leaf Diagram"
      ],
      "metadata": {
        "id": "9E9QsKivnJoB"
      }
    },
    {
      "cell_type": "code",
      "metadata": {
        "id": "D4aNCwMnScJy",
        "colab": {
          "base_uri": "https://localhost:8080/",
          "height": 691
        },
        "outputId": "14d7b947-3d3c-41dc-c4a9-9dbb8a3778f5"
      },
      "source": [
        "!pip install stemgraphic\n",
        "import stemgraphic\n",
        "\n",
        "stemgraphic.stem_graphic(X, scale=10)"
      ],
      "execution_count": 169,
      "outputs": [
        {
          "output_type": "stream",
          "name": "stdout",
          "text": [
            "Looking in indexes: https://pypi.org/simple, https://us-python.pkg.dev/colab-wheels/public/simple/\n",
            "Collecting stemgraphic\n",
            "  Downloading stemgraphic-0.9.1-py3-none-any.whl (61 kB)\n",
            "\u001b[K     |████████████████████████████████| 61 kB 576 kB/s \n",
            "\u001b[?25hRequirement already satisfied: pandas in /usr/local/lib/python3.7/dist-packages (from stemgraphic) (1.3.5)\n",
            "Requirement already satisfied: seaborn in /usr/local/lib/python3.7/dist-packages (from stemgraphic) (0.11.2)\n",
            "Collecting docopt\n",
            "  Downloading docopt-0.6.2.tar.gz (25 kB)\n",
            "Requirement already satisfied: matplotlib in /usr/local/lib/python3.7/dist-packages (from stemgraphic) (3.2.2)\n",
            "Requirement already satisfied: python-dateutil>=2.1 in /usr/local/lib/python3.7/dist-packages (from matplotlib->stemgraphic) (2.8.2)\n",
            "Requirement already satisfied: numpy>=1.11 in /usr/local/lib/python3.7/dist-packages (from matplotlib->stemgraphic) (1.21.6)\n",
            "Requirement already satisfied: kiwisolver>=1.0.1 in /usr/local/lib/python3.7/dist-packages (from matplotlib->stemgraphic) (1.4.4)\n",
            "Requirement already satisfied: pyparsing!=2.0.4,!=2.1.2,!=2.1.6,>=2.0.1 in /usr/local/lib/python3.7/dist-packages (from matplotlib->stemgraphic) (3.0.9)\n",
            "Requirement already satisfied: cycler>=0.10 in /usr/local/lib/python3.7/dist-packages (from matplotlib->stemgraphic) (0.11.0)\n",
            "Requirement already satisfied: typing-extensions in /usr/local/lib/python3.7/dist-packages (from kiwisolver>=1.0.1->matplotlib->stemgraphic) (4.1.1)\n",
            "Requirement already satisfied: six>=1.5 in /usr/local/lib/python3.7/dist-packages (from python-dateutil>=2.1->matplotlib->stemgraphic) (1.15.0)\n",
            "Requirement already satisfied: pytz>=2017.3 in /usr/local/lib/python3.7/dist-packages (from pandas->stemgraphic) (2022.2.1)\n",
            "Requirement already satisfied: scipy>=1.0 in /usr/local/lib/python3.7/dist-packages (from seaborn->stemgraphic) (1.7.3)\n",
            "Building wheels for collected packages: docopt\n",
            "  Building wheel for docopt (setup.py) ... \u001b[?25l\u001b[?25hdone\n",
            "  Created wheel for docopt: filename=docopt-0.6.2-py2.py3-none-any.whl size=13723 sha256=b8ed2418530464ad116ec694af5f434435fabe6becfdb39dbf8912560fc5ea66\n",
            "  Stored in directory: /root/.cache/pip/wheels/72/b0/3f/1d95f96ff986c7dfffe46ce2be4062f38ebd04b506c77c81b9\n",
            "Successfully built docopt\n",
            "Installing collected packages: docopt, stemgraphic\n",
            "Successfully installed docopt-0.6.2 stemgraphic-0.9.1\n"
          ]
        },
        {
          "output_type": "execute_result",
          "data": {
            "text/plain": [
              "(<Figure size 540x198 with 1 Axes>,\n",
              " <matplotlib.axes._axes.Axes at 0x7fe4746967d0>)"
            ]
          },
          "metadata": {},
          "execution_count": 169
        },
        {
          "output_type": "display_data",
          "data": {
            "text/plain": [
              "<Figure size 540x198 with 1 Axes>"
            ],
            "image/png": "[encoded data removed]"
          },
          "metadata": {}
        }
      ]
    },
    {
      "cell_type": "markdown",
      "metadata": {
        "id": "dgt-6ATCUfoe"
      },
      "source": [
        "## Violin and swarm plots"
      ]
    },
    {
      "cell_type": "code",
      "metadata": {
        "id": "0l4wTr6sUiJP",
        "colab": {
          "base_uri": "https://localhost:8080/",
          "height": 1000
        },
        "outputId": "9a1fff7e-51e7-4642-b51f-b6dd260f2918"
      },
      "source": [
        "ax = sns.violinplot(data=X, width=.2, palette=\"Set2\")\n",
        "plt.figure()\n",
        "ax = sns.swarmplot(data=X, edgecolor=\"gray\")"
      ],
      "execution_count": 167,
      "outputs": [
        {
          "output_type": "display_data",
          "data": {
            "text/plain": [
              "<Figure size 1152x648 with 1 Axes>"
            ],
            "image/png": "[encoded data removed]"
          },
          "metadata": {}
        },
        {
          "output_type": "display_data",
          "data": {
            "text/plain": [
              "<Figure size 1152x648 with 1 Axes>"
            ],
            "image/png": "[encoded data removed]"
          },
          "metadata": {}
        }
      ]
    },
    {
      "cell_type": "markdown",
      "source": [
        "# Pandas"
      ],
      "metadata": {
        "id": "jwZQ6H2Dotbj"
      }
    },
    {
      "cell_type": "code",
      "metadata": {
        "id": "pIrZ3-V6Rd40"
      },
      "source": [
        "df = pd.DataFrame(X, columns=['X'])\n",
        "\n",
        "df['X'].value_counts() #generate counts\n",
        "df.plot.bar()\n",
        "plt.figure()"
      ],
      "execution_count": null,
      "outputs": []
    },
    {
      "cell_type": "code",
      "source": [
        "# df['X'].value_counts().plot.bar()\n",
        "# plt.figure()\n",
        "# df['X'].value_counts().plot.pie()"
      ],
      "metadata": {
        "id": "oUsE0MlRo2P-"
      },
      "execution_count": null,
      "outputs": []
    },
    {
      "cell_type": "markdown",
      "metadata": {
        "id": "HPHB5uxdO34a"
      },
      "source": [
        "# Probability\n"
      ]
    },
    {
      "cell_type": "markdown",
      "source": [
        "## Binomial Distribution"
      ],
      "metadata": {
        "id": "_Ew5e8o5ld_p"
      }
    },
    {
      "cell_type": "code",
      "metadata": {
        "id": "sYCR7hdlPEqB"
      },
      "source": [
        "#Binomial parameters n and p\n",
        "n, p = 200, 0.0128\n",
        "# x = np.arange(0, n) # entire range not practical\n",
        "# Instead chose range within some probability threshold\n",
        "x = np.arange(binom.ppf(0.001, n, p), binom.ppf(0.999, n, p))\n",
        "plt.figure()\n",
        "plt.stem(x, binom.pmf(x, n, p), use_line_collection=True)\n",
        "plt.title('Binomial ($n$={0}, $p$={1})'.format(n, p))\n",
        "plt.xlabel('Number of successes')\n",
        "plt.ylabel('Probability mass function')\n",
        "plt.show()"
      ],
      "execution_count": null,
      "outputs": []
    },
    {
      "cell_type": "markdown",
      "metadata": {
        "id": "0lPWVFgvPSeZ"
      },
      "source": [
        "**Poisson distribution**"
      ]
    },
    {
      "cell_type": "code",
      "metadata": {
        "id": "Arb-lDTWPX2x"
      },
      "source": [
        "lamda = 0.75\n",
        "x = np.arange(poisson.ppf(0.01, lamda), poisson.ppf(0.999, lamda))\n",
        "plt.figure()\n",
        "plt.stem(x, poisson.pmf(x, lamda), use_line_collection=True)\n",
        "plt.title('Poisson ($\\lambda$={0})'.format(lamda))\n",
        "plt.xlabel('Number of occurances')\n",
        "plt.ylabel('Probability mass function')\n",
        "#plt.autoscale(enable=True, axis='y', tight=True)\n",
        "plt.show()"
      ],
      "execution_count": null,
      "outputs": []
    },
    {
      "cell_type": "markdown",
      "metadata": {
        "id": "Bd-QXSvvPxVB"
      },
      "source": [
        "**Gaussian distribution**"
      ]
    },
    {
      "cell_type": "code",
      "metadata": {
        "id": "JZRxI2pQP1DY"
      },
      "source": [
        "mu_sigmas = [(0, 0.8), (0, 1), (0, 2), (2, 1)]\n",
        "x = np.linspace(norm.ppf(0.01, 0, 2), norm.ppf(0.99, 0, 2), 1000)\n",
        "plt.figure()\n",
        "for mu, sigma in mu_sigmas:\n",
        "    plt.plot(x, norm.pdf(x, mu, sigma), \n",
        "             label=('$\\\\mu$={0}, $\\\\sigma$={1}'.format(mu, sigma)))\n",
        "    plt.title('Normal Distributions')\n",
        "    plt.xlabel('$x$')\n",
        "    plt.ylabel('Probability density function $f(x)$')\n",
        "plt.legend()\n",
        "#plt.autoscale(enable=True, axis='both', tight=True)\n",
        "plt.show()"
      ],
      "execution_count": null,
      "outputs": []
    },
    {
      "cell_type": "markdown",
      "metadata": {
        "id": "8CBXgPc0P873"
      },
      "source": [
        "**Central limit theorem using uniform (try with other distributions)**"
      ]
    },
    {
      "cell_type": "code",
      "metadata": {
        "id": "D58k7H64QGhA"
      },
      "source": [
        "N = 10000\n",
        "sim = np.zeros(N)\n",
        "for i in range(N):\n",
        "    sim[i] = np.mean(np.random.uniform(30, 40, 100))\n",
        "plt.figure()\n",
        "plt.hist(sim, bins=20, alpha=0.5)\t\n",
        "plt.title('Central limit theorem')\n",
        "plt.show()"
      ],
      "execution_count": null,
      "outputs": []
    },
    {
      "cell_type": "markdown",
      "source": [
        "**Normal probability plot:** Generates a probability plot of sample data against the quantiles"
      ],
      "metadata": {
        "id": "zbjkrAYAmath"
      }
    },
    {
      "cell_type": "code",
      "source": [
        "probplot(X, plot=plt)"
      ],
      "metadata": {
        "id": "0c0PFABymfKM"
      },
      "execution_count": null,
      "outputs": []
    },
    {
      "cell_type": "code",
      "metadata": {
        "id": "_fWc1CgJXjlO"
      },
      "source": [
        "import matplotlib.pyplot as plt\n",
        "import seaborn as sns\n",
        "sns.set_theme()\n",
        "\n",
        "# Load the example flights dataset and convert to long-form\n",
        "flights_long = sns.load_dataset(\"flights\")\n",
        "flights = flights_long.pivot(\"month\", \"year\", \"passengers\")\n",
        "\n",
        "# Draw a heatmap with the numeric values in each cell\n",
        "f, ax = plt.subplots(figsize=(9, 6))\n",
        "sns.heatmap(flights, annot=True, fmt=\"d\", linewidths=.5, ax=ax)"
      ],
      "execution_count": null,
      "outputs": []
    },
    {
      "cell_type": "code",
      "source": [
        "#Python version 3.8\n",
        "statistics.quantiles(X, *, n=4, method='exclusive')  "
      ],
      "metadata": {
        "colab": {
          "base_uri": "https://localhost:8080/",
          "height": 133
        },
        "id": "r2Lg6zRklU9X",
        "outputId": "98199983-5e8f-4fbe-d1ac-5b4a0ee31e7b"
      },
      "execution_count": null,
      "outputs": [
        {
          "output_type": "error",
          "ename": "SyntaxError",
          "evalue": "ignored",
          "traceback": [
            "\u001b[0;36m  File \u001b[0;32m\"<ipython-input-149-c282796dd59f>\"\u001b[0;36m, line \u001b[0;32m2\u001b[0m\n\u001b[0;31m    statistics.quantiles(X, *, n=4, method='exclusive')\u001b[0m\n\u001b[0m                             ^\u001b[0m\n\u001b[0;31mSyntaxError\u001b[0m\u001b[0;31m:\u001b[0m invalid syntax\n"
          ]
        }
      ]
    }
  ]
}