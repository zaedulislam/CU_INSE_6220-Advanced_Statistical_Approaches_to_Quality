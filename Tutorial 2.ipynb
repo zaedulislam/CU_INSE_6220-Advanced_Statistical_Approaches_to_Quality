{
  "nbformat": 4,
  "nbformat_minor": 0,
  "metadata": {
    "colab": {
      "provenance": [],
      "authorship_tag": "ABX9TyOlfh3Vv+i0I+P7UmQesOY0",
      "include_colab_link": true
    },
    "kernelspec": {
      "name": "python3",
      "display_name": "Python 3"
    },
    "language_info": {
      "name": "python"
    }
  },
  "cells": [
    {
      "cell_type": "markdown",
      "metadata": {
        "id": "view-in-github",
        "colab_type": "text"
      },
      "source": [
        "<a href=\"https://colab.research.google.com/github/zaedulislam/ConU_INSE_6220-Advanced_Statistical_Approaches_to_Quality/blob/main/Tutorial%202.ipynb\" target=\"_parent\"><img src=\"https://colab.research.google.com/assets/colab-badge.svg\" alt=\"Open In Colab\"/></a>"
      ]
    },
    {
      "cell_type": "markdown",
      "source": [
        "# Import Python Libraries"
      ],
      "metadata": {
        "id": "kz0BuCWYhEpU"
      }
    },
    {
      "cell_type": "code",
      "source": [
        "!pip install pyspc"
      ],
      "metadata": {
        "colab": {
          "base_uri": "https://localhost:8080/"
        },
        "id": "i9YCoW7WiWsg",
        "outputId": "0705820f-59eb-49a1-9c85-5fc0ba039eb5"
      },
      "execution_count": 95,
      "outputs": [
        {
          "output_type": "stream",
          "name": "stdout",
          "text": [
            "Looking in indexes: https://pypi.org/simple, https://us-python.pkg.dev/colab-wheels/public/simple/\n",
            "Requirement already satisfied: pyspc in /usr/local/lib/python3.7/dist-packages (0.4)\n",
            "Requirement already satisfied: numpy in /usr/local/lib/python3.7/dist-packages (from pyspc) (1.21.6)\n",
            "Requirement already satisfied: matplotlib in /usr/local/lib/python3.7/dist-packages (from pyspc) (3.2.2)\n",
            "Requirement already satisfied: scipy in /usr/local/lib/python3.7/dist-packages (from pyspc) (1.7.3)\n",
            "Requirement already satisfied: pandas in /usr/local/lib/python3.7/dist-packages (from pyspc) (1.3.5)\n",
            "Requirement already satisfied: pyparsing!=2.0.4,!=2.1.2,!=2.1.6,>=2.0.1 in /usr/local/lib/python3.7/dist-packages (from matplotlib->pyspc) (3.0.9)\n",
            "Requirement already satisfied: kiwisolver>=1.0.1 in /usr/local/lib/python3.7/dist-packages (from matplotlib->pyspc) (1.4.4)\n",
            "Requirement already satisfied: cycler>=0.10 in /usr/local/lib/python3.7/dist-packages (from matplotlib->pyspc) (0.11.0)\n",
            "Requirement already satisfied: python-dateutil>=2.1 in /usr/local/lib/python3.7/dist-packages (from matplotlib->pyspc) (2.8.2)\n",
            "Requirement already satisfied: typing-extensions in /usr/local/lib/python3.7/dist-packages (from kiwisolver>=1.0.1->matplotlib->pyspc) (4.1.1)\n",
            "Requirement already satisfied: six>=1.5 in /usr/local/lib/python3.7/dist-packages (from python-dateutil>=2.1->matplotlib->pyspc) (1.15.0)\n",
            "Requirement already satisfied: pytz>=2017.3 in /usr/local/lib/python3.7/dist-packages (from pandas->pyspc) (2022.4)\n"
          ]
        }
      ]
    },
    {
      "cell_type": "code",
      "execution_count": 131,
      "metadata": {
        "colab": {
          "base_uri": "https://localhost:8080/"
        },
        "id": "HWvahaJsgNcR",
        "outputId": "454d0272-d2be-4b38-9034-627d42205688"
      },
      "outputs": [
        {
          "output_type": "stream",
          "name": "stdout",
          "text": [
            "Python 3.7.15\n"
          ]
        }
      ],
      "source": [
        "import numpy as np\n",
        "\n",
        "#  matplotlib - The Python library is needed to plot nice charts\n",
        "import matplotlib.pyplot as plt\n",
        "\n",
        "# 'seaborn' - a matplotlib based statistical graphical library\n",
        "import seaborn as sns; \n",
        "sns.set() # Use seaborn plotting style defaults\n",
        "\n",
        "# Open source data analysis and manipulation library for Python\n",
        "import pandas as pd\n",
        "\n",
        "# The exclamation mark is used for executing commands from the underlying operating system\n",
        "!python --version\n",
        "\n",
        "from google.colab import files\n",
        "\n",
        "# Statistical Process Control Charts Library for Humans\n",
        "# PySpc is a Python library aimed to make Statistical Process Control Charts as easy as possible.\n",
        "from pyspc import spc, xbar_rbar, rbar, rules\n",
        "\n",
        "from scipy.stats import norm"
      ]
    },
    {
      "cell_type": "code",
      "source": [
        "uploaded = files.upload()\n",
        "\n",
        "for fn in uploaded.keys():\n",
        "  print('User uploaded file \"{name}\" with length {length} bytes'.format(\n",
        "      name=fn, length=len(uploaded[fn])))"
      ],
      "metadata": {
        "colab": {
          "base_uri": "https://localhost:8080/",
          "height": 39
        },
        "id": "Bh3SWA79lBW4",
        "outputId": "dd4c62d8-3185-49d5-8a88-418dea09fe0d"
      },
      "execution_count": null,
      "outputs": [
        {
          "output_type": "display_data",
          "data": {
            "text/plain": [
              "<IPython.core.display.HTML object>"
            ],
            "text/html": [
              "\n",
              "     <input type=\"file\" id=\"files-8ced9592-2c73-4e08-8500-f5d3c8f9750a\" name=\"files[]\" multiple disabled\n",
              "        style=\"border:none\" />\n",
              "     <output id=\"result-8ced9592-2c73-4e08-8500-f5d3c8f9750a\">\n",
              "      Upload widget is only available when the cell has been executed in the\n",
              "      current browser session. Please rerun this cell to enable.\n",
              "      </output>\n",
              "      <script>// Copyright 2017 Google LLC\n",
              "//\n",
              "// Licensed under the Apache License, Version 2.0 (the \"License\");\n",
              "// you may not use this file except in compliance with the License.\n",
              "// You may obtain a copy of the License at\n",
              "//\n",
              "//      http://www.apache.org/licenses/LICENSE-2.0\n",
              "//\n",
              "// Unless required by applicable law or agreed to in writing, software\n",
              "// distributed under the License is distributed on an \"AS IS\" BASIS,\n",
              "// WITHOUT WARRANTIES OR CONDITIONS OF ANY KIND, either express or implied.\n",
              "// See the License for the specific language governing permissions and\n",
              "// limitations under the License.\n",
              "\n",
              "/**\n",
              " * @fileoverview Helpers for google.colab Python module.\n",
              " */\n",
              "(function(scope) {\n",
              "function span(text, styleAttributes = {}) {\n",
              "  const element = document.createElement('span');\n",
              "  element.textContent = text;\n",
              "  for (const key of Object.keys(styleAttributes)) {\n",
              "    element.style[key] = styleAttributes[key];\n",
              "  }\n",
              "  return element;\n",
              "}\n",
              "\n",
              "// Max number of bytes which will be uploaded at a time.\n",
              "const MAX_PAYLOAD_SIZE = 100 * 1024;\n",
              "\n",
              "function _uploadFiles(inputId, outputId) {\n",
              "  const steps = uploadFilesStep(inputId, outputId);\n",
              "  const outputElement = document.getElementById(outputId);\n",
              "  // Cache steps on the outputElement to make it available for the next call\n",
              "  // to uploadFilesContinue from Python.\n",
              "  outputElement.steps = steps;\n",
              "\n",
              "  return _uploadFilesContinue(outputId);\n",
              "}\n",
              "\n",
              "// This is roughly an async generator (not supported in the browser yet),\n",
              "// where there are multiple asynchronous steps and the Python side is going\n",
              "// to poll for completion of each step.\n",
              "// This uses a Promise to block the python side on completion of each step,\n",
              "// then passes the result of the previous step as the input to the next step.\n",
              "function _uploadFilesContinue(outputId) {\n",
              "  const outputElement = document.getElementById(outputId);\n",
              "  const steps = outputElement.steps;\n",
              "\n",
              "  const next = steps.next(outputElement.lastPromiseValue);\n",
              "  return Promise.resolve(next.value.promise).then((value) => {\n",
              "    // Cache the last promise value to make it available to the next\n",
              "    // step of the generator.\n",
              "    outputElement.lastPromiseValue = value;\n",
              "    return next.value.response;\n",
              "  });\n",
              "}\n",
              "\n",
              "/**\n",
              " * Generator function which is called between each async step of the upload\n",
              " * process.\n",
              " * @param {string} inputId Element ID of the input file picker element.\n",
              " * @param {string} outputId Element ID of the output display.\n",
              " * @return {!Iterable<!Object>} Iterable of next steps.\n",
              " */\n",
              "function* uploadFilesStep(inputId, outputId) {\n",
              "  const inputElement = document.getElementById(inputId);\n",
              "  inputElement.disabled = false;\n",
              "\n",
              "  const outputElement = document.getElementById(outputId);\n",
              "  outputElement.innerHTML = '';\n",
              "\n",
              "  const pickedPromise = new Promise((resolve) => {\n",
              "    inputElement.addEventListener('change', (e) => {\n",
              "      resolve(e.target.files);\n",
              "    });\n",
              "  });\n",
              "\n",
              "  const cancel = document.createElement('button');\n",
              "  inputElement.parentElement.appendChild(cancel);\n",
              "  cancel.textContent = 'Cancel upload';\n",
              "  const cancelPromise = new Promise((resolve) => {\n",
              "    cancel.onclick = () => {\n",
              "      resolve(null);\n",
              "    };\n",
              "  });\n",
              "\n",
              "  // Wait for the user to pick the files.\n",
              "  const files = yield {\n",
              "    promise: Promise.race([pickedPromise, cancelPromise]),\n",
              "    response: {\n",
              "      action: 'starting',\n",
              "    }\n",
              "  };\n",
              "\n",
              "  cancel.remove();\n",
              "\n",
              "  // Disable the input element since further picks are not allowed.\n",
              "  inputElement.disabled = true;\n",
              "\n",
              "  if (!files) {\n",
              "    return {\n",
              "      response: {\n",
              "        action: 'complete',\n",
              "      }\n",
              "    };\n",
              "  }\n",
              "\n",
              "  for (const file of files) {\n",
              "    const li = document.createElement('li');\n",
              "    li.append(span(file.name, {fontWeight: 'bold'}));\n",
              "    li.append(span(\n",
              "        `(${file.type || 'n/a'}) - ${file.size} bytes, ` +\n",
              "        `last modified: ${\n",
              "            file.lastModifiedDate ? file.lastModifiedDate.toLocaleDateString() :\n",
              "                                    'n/a'} - `));\n",
              "    const percent = span('0% done');\n",
              "    li.appendChild(percent);\n",
              "\n",
              "    outputElement.appendChild(li);\n",
              "\n",
              "    const fileDataPromise = new Promise((resolve) => {\n",
              "      const reader = new FileReader();\n",
              "      reader.onload = (e) => {\n",
              "        resolve(e.target.result);\n",
              "      };\n",
              "      reader.readAsArrayBuffer(file);\n",
              "    });\n",
              "    // Wait for the data to be ready.\n",
              "    let fileData = yield {\n",
              "      promise: fileDataPromise,\n",
              "      response: {\n",
              "        action: 'continue',\n",
              "      }\n",
              "    };\n",
              "\n",
              "    // Use a chunked sending to avoid message size limits. See b/62115660.\n",
              "    let position = 0;\n",
              "    do {\n",
              "      const length = Math.min(fileData.byteLength - position, MAX_PAYLOAD_SIZE);\n",
              "      const chunk = new Uint8Array(fileData, position, length);\n",
              "      position += length;\n",
              "\n",
              "      const base64 = btoa(String.fromCharCode.apply(null, chunk));\n",
              "      yield {\n",
              "        response: {\n",
              "          action: 'append',\n",
              "          file: file.name,\n",
              "          data: base64,\n",
              "        },\n",
              "      };\n",
              "\n",
              "      let percentDone = fileData.byteLength === 0 ?\n",
              "          100 :\n",
              "          Math.round((position / fileData.byteLength) * 100);\n",
              "      percent.textContent = `${percentDone}% done`;\n",
              "\n",
              "    } while (position < fileData.byteLength);\n",
              "  }\n",
              "\n",
              "  // All done.\n",
              "  yield {\n",
              "    response: {\n",
              "      action: 'complete',\n",
              "    }\n",
              "  };\n",
              "}\n",
              "\n",
              "scope.google = scope.google || {};\n",
              "scope.google.colab = scope.google.colab || {};\n",
              "scope.google.colab._files = {\n",
              "  _uploadFiles,\n",
              "  _uploadFilesContinue,\n",
              "};\n",
              "})(self);\n",
              "</script> "
            ]
          },
          "metadata": {}
        }
      ]
    },
    {
      "cell_type": "code",
      "source": [
        "df = pd.read_csv('customers.csv', index_col=0)\n",
        "print(df)"
      ],
      "metadata": {
        "colab": {
          "base_uri": "https://localhost:8080/"
        },
        "id": "dwyKAwhw3gu3",
        "outputId": "38bd6c7c-86f4-4939-e1bd-d4f0413ded52"
      },
      "execution_count": 102,
      "outputs": [
        {
          "output_type": "stream",
          "name": "stdout",
          "text": [
            "     X1   X2   X3   X4\n",
            "0   7.2  8.4  7.9  4.9\n",
            "1   5.6  8.7  3.3  4.2\n",
            "2   5.5  7.3  3.2  6.0\n",
            "3   4.4  8.0  5.4  7.4\n",
            "4   9.7  4.6  4.8  5.8\n",
            "5   8.3  8.9  9.1  6.2\n",
            "6   4.7  6.6  5.3  5.8\n",
            "7   8.8  5.5  8.4  6.9\n",
            "8   5.7  4.7  4.1  4.6\n",
            "9   4.9  6.2  7.8  8.7\n",
            "10  7.1  6.3  8.2  5.5\n",
            "11  7.1  5.8  6.9  7.0\n",
            "12  6.7  6.9  7.0  9.4\n",
            "13  5.5  6.3  3.2  4.9\n",
            "14  4.9  5.1  3.2  7.6\n",
            "15  3.7  4.0  3.0  5.2\n",
            "16  2.6  3.9  5.2  4.8\n",
            "17  4.6  2.7  6.3  3.4\n",
            "18  7.2  8.0  4.1  5.9\n",
            "19  6.1  3.4  7.2  5.9\n"
          ]
        }
      ]
    },
    {
      "cell_type": "markdown",
      "source": [
        "# DataFrame to CSV file"
      ],
      "metadata": {
        "id": "1OIz-iFg3wLw"
      }
    },
    {
      "cell_type": "code",
      "source": [
        "data = np.array([\n",
        "                [7.2, 8.4, 7.9, 4.9], \n",
        "                [5.6, 8.7, 3.3, 4.2],\n",
        "                [5.5, 7.3, 3.2, 6.0],\n",
        "                [4.4, 8.0, 5.4, 7.4],\n",
        "                [9.7, 4.6, 4.8, 5.8],\n",
        "                [8.3, 8.9, 9.1, 6.2],\n",
        "                [4.7, 6.6, 5.3, 5.8],\n",
        "                [8.8, 5.5, 8.4, 6.9],\n",
        "                [5.7, 4.7, 4.1, 4.6],\n",
        "                [4.9, 6.2, 7.8, 8.7],\n",
        "                [7.1, 6.3, 8.2, 5.5],\n",
        "                [7.1, 5.8, 6.9, 7.0],\n",
        "                [6.7, 6.9, 7.0, 9.4],\n",
        "                [5.5, 6.3, 3.2, 4.9],\n",
        "                [4.9, 5.1, 3.2, 7.6],\n",
        "                [3.7, 4.0, 3.0, 5.2],\n",
        "                [2.6, 3.9, 5.2, 4.8],\n",
        "                [4.6, 2.7, 6.3, 3.4],\n",
        "                [7.2, 8.0, 4.1, 5.9],\n",
        "                [6.1, 3.4, 7.2, 5.9]\n",
        "                 ])\n",
        "\n",
        "dataset = pd.DataFrame(data, columns=['X1', 'X2', 'X3', 'X4'])\n",
        "print(dataset)"
      ],
      "metadata": {
        "colab": {
          "base_uri": "https://localhost:8080/"
        },
        "id": "46Plk5YRmfks",
        "outputId": "e21f6fa3-c74a-40ed-b052-9b67aae0cfb6"
      },
      "execution_count": 101,
      "outputs": [
        {
          "output_type": "stream",
          "name": "stdout",
          "text": [
            "     X1   X2   X3   X4\n",
            "0   7.2  8.4  7.9  4.9\n",
            "1   5.6  8.7  3.3  4.2\n",
            "2   5.5  7.3  3.2  6.0\n",
            "3   4.4  8.0  5.4  7.4\n",
            "4   9.7  4.6  4.8  5.8\n",
            "5   8.3  8.9  9.1  6.2\n",
            "6   4.7  6.6  5.3  5.8\n",
            "7   8.8  5.5  8.4  6.9\n",
            "8   5.7  4.7  4.1  4.6\n",
            "9   4.9  6.2  7.8  8.7\n",
            "10  7.1  6.3  8.2  5.5\n",
            "11  7.1  5.8  6.9  7.0\n",
            "12  6.7  6.9  7.0  9.4\n",
            "13  5.5  6.3  3.2  4.9\n",
            "14  4.9  5.1  3.2  7.6\n",
            "15  3.7  4.0  3.0  5.2\n",
            "16  2.6  3.9  5.2  4.8\n",
            "17  4.6  2.7  6.3  3.4\n",
            "18  7.2  8.0  4.1  5.9\n",
            "19  6.1  3.4  7.2  5.9\n"
          ]
        }
      ]
    },
    {
      "cell_type": "markdown",
      "source": [
        "## Download As a CSV File"
      ],
      "metadata": {
        "id": "_cyORPAa32dE"
      }
    },
    {
      "cell_type": "code",
      "source": [
        "dataset.to_csv('customers.csv')\n",
        "files.download('customers.csv')"
      ],
      "metadata": {
        "colab": {
          "base_uri": "https://localhost:8080/",
          "height": 17
        },
        "id": "2w5B-wwh3KE8",
        "outputId": "57cf3a00-f022-485b-8a1c-30812b8d207c"
      },
      "execution_count": null,
      "outputs": [
        {
          "output_type": "display_data",
          "data": {
            "text/plain": [
              "<IPython.core.display.Javascript object>"
            ],
            "application/javascript": [
              "\n",
              "    async function download(id, filename, size) {\n",
              "      if (!google.colab.kernel.accessAllowed) {\n",
              "        return;\n",
              "      }\n",
              "      const div = document.createElement('div');\n",
              "      const label = document.createElement('label');\n",
              "      label.textContent = `Downloading \"${filename}\": `;\n",
              "      div.appendChild(label);\n",
              "      const progress = document.createElement('progress');\n",
              "      progress.max = size;\n",
              "      div.appendChild(progress);\n",
              "      document.body.appendChild(div);\n",
              "\n",
              "      const buffers = [];\n",
              "      let downloaded = 0;\n",
              "\n",
              "      const channel = await google.colab.kernel.comms.open(id);\n",
              "      // Send a message to notify the kernel that we're ready.\n",
              "      channel.send({})\n",
              "\n",
              "      for await (const message of channel.messages) {\n",
              "        // Send a message to notify the kernel that we're ready.\n",
              "        channel.send({})\n",
              "        if (message.buffers) {\n",
              "          for (const buffer of message.buffers) {\n",
              "            buffers.push(buffer);\n",
              "            downloaded += buffer.byteLength;\n",
              "            progress.value = downloaded;\n",
              "          }\n",
              "        }\n",
              "      }\n",
              "      const blob = new Blob(buffers, {type: 'application/binary'});\n",
              "      const a = document.createElement('a');\n",
              "      a.href = window.URL.createObjectURL(blob);\n",
              "      a.download = filename;\n",
              "      div.appendChild(a);\n",
              "      a.click();\n",
              "      div.remove();\n",
              "    }\n",
              "  "
            ]
          },
          "metadata": {}
        },
        {
          "output_type": "display_data",
          "data": {
            "text/plain": [
              "<IPython.core.display.Javascript object>"
            ],
            "application/javascript": [
              "download(\"download_b671390d-6e28-4649-a33d-8d429afab10a\", \"customers.csv\", 383)"
            ]
          },
          "metadata": {}
        }
      ]
    },
    {
      "cell_type": "markdown",
      "source": [
        "## Pairplot\n",
        "Plot pairwise relationships in a dataset."
      ],
      "metadata": {
        "id": "98NqRRPL1lEw"
      }
    },
    {
      "cell_type": "code",
      "source": [
        "sns.pairplot(dataset)"
      ],
      "metadata": {
        "colab": {
          "base_uri": "https://localhost:8080/",
          "height": 741
        },
        "id": "7x26YYovuku7",
        "outputId": "e85e4460-064b-421e-8d5d-9b2d0d277cfc"
      },
      "execution_count": 103,
      "outputs": [
        {
          "output_type": "execute_result",
          "data": {
            "text/plain": [
              "<seaborn.axisgrid.PairGrid at 0x7fa18683fe90>"
            ]
          },
          "metadata": {},
          "execution_count": 103
        },
        {
          "output_type": "display_data",
          "data": {
            "text/plain": [
              "<Figure size 720x720 with 20 Axes>"
            ],
            "image/png": "[encoded data removed]"
          },
          "metadata": {}
        }
      ]
    },
    {
      "cell_type": "markdown",
      "source": [
        "# Correlation Matrix"
      ],
      "metadata": {
        "id": "SrMphb-92OPf"
      }
    },
    {
      "cell_type": "code",
      "source": [
        "plt.figure(figsize=(16, 9))\n",
        "\n",
        "ax = sns.heatmap(df.corr(), cmap='RdYlGn_r', linewidths=0.5, annot=True, \n",
        "            cbar=False, square=True)\n",
        "\n",
        "plt.yticks(rotation=0)\n",
        "ax.tick_params(labelbottom=False,labeltop=True)"
      ],
      "metadata": {
        "colab": {
          "base_uri": "https://localhost:8080/",
          "height": 540
        },
        "id": "mKLtD89ZySiU",
        "outputId": "ffa01c28-809b-4885-c023-2eee70161b4d"
      },
      "execution_count": 104,
      "outputs": [
        {
          "output_type": "display_data",
          "data": {
            "text/plain": [
              "<Figure size 1152x648 with 1 Axes>"
            ],
            "image/png": "[encoded data removed]"
          },
          "metadata": {}
        }
      ]
    },
    {
      "cell_type": "markdown",
      "source": [
        "# Control Charts"
      ],
      "metadata": {
        "id": "ueTz-BNG5Z04"
      }
    },
    {
      "cell_type": "markdown",
      "source": [
        "## X-bar Control Chart"
      ],
      "metadata": {
        "id": "HnWzeugJA6Sr"
      }
    },
    {
      "cell_type": "markdown",
      "source": [
        "### Example 1"
      ],
      "metadata": {
        "id": "pQWTsvgEA32e"
      }
    },
    {
      "cell_type": "code",
      "source": [
        "print(df)"
      ],
      "metadata": {
        "colab": {
          "base_uri": "https://localhost:8080/"
        },
        "id": "Qs1DvX6T6Zw3",
        "outputId": "1e15a068-c7f1-4040-b08d-999f74698fba"
      },
      "execution_count": 105,
      "outputs": [
        {
          "output_type": "stream",
          "name": "stdout",
          "text": [
            "     X1   X2   X3   X4\n",
            "0   7.2  8.4  7.9  4.9\n",
            "1   5.6  8.7  3.3  4.2\n",
            "2   5.5  7.3  3.2  6.0\n",
            "3   4.4  8.0  5.4  7.4\n",
            "4   9.7  4.6  4.8  5.8\n",
            "5   8.3  8.9  9.1  6.2\n",
            "6   4.7  6.6  5.3  5.8\n",
            "7   8.8  5.5  8.4  6.9\n",
            "8   5.7  4.7  4.1  4.6\n",
            "9   4.9  6.2  7.8  8.7\n",
            "10  7.1  6.3  8.2  5.5\n",
            "11  7.1  5.8  6.9  7.0\n",
            "12  6.7  6.9  7.0  9.4\n",
            "13  5.5  6.3  3.2  4.9\n",
            "14  4.9  5.1  3.2  7.6\n",
            "15  3.7  4.0  3.0  5.2\n",
            "16  2.6  3.9  5.2  4.8\n",
            "17  4.6  2.7  6.3  3.4\n",
            "18  7.2  8.0  4.1  5.9\n",
            "19  6.1  3.4  7.2  5.9\n"
          ]
        }
      ]
    },
    {
      "cell_type": "code",
      "source": [
        "X = np.array(df)\n",
        "Xbar = np.mean(X, axis=1)\n",
        "print(Xbar)\n",
        "Xbarbar = np.mean(Xbar)\n",
        "\n",
        "R = np.ptp(X, axis=1)\n",
        "Rbar = np.mean(R)\n",
        "d2 = 2.059\n",
        "sigmahat = Rbar/d2\n",
        "print('The process mean and standard deviation are:')\n",
        "print('Xbarbar = {0:.2f}, sigmahat = {1:.2f}'.format(Xbarbar, sigmahat))"
      ],
      "metadata": {
        "colab": {
          "base_uri": "https://localhost:8080/"
        },
        "id": "811EzZ7N5j9k",
        "outputId": "7a22e93a-d2d3-4de2-9304-882bef11c9c5"
      },
      "execution_count": 106,
      "outputs": [
        {
          "output_type": "stream",
          "name": "stdout",
          "text": [
            "[7.1   5.45  5.5   6.3   6.225 8.125 5.6   7.4   4.775 6.9   6.775 6.7\n",
            " 7.5   4.975 5.2   3.975 4.125 4.25  6.3   5.65 ]\n",
            "The process mean and standard deviation are:\n",
            "Xbarbar = 5.94, sigmahat = 1.59\n"
          ]
        }
      ]
    },
    {
      "cell_type": "code",
      "source": [
        "chart = spc(X) + xbar_rbar() + rbar() + rules()\n",
        "print(chart)"
      ],
      "metadata": {
        "colab": {
          "base_uri": "https://localhost:8080/",
          "height": 327
        },
        "id": "X2gBV59M7Msp",
        "outputId": "0375edf3-7acc-47f5-a5a3-4e8df64e6d72"
      },
      "execution_count": null,
      "outputs": [
        {
          "output_type": "display_data",
          "data": {
            "text/plain": [
              "<Figure size 1152x648 with 0 Axes>"
            ]
          },
          "metadata": {}
        },
        {
          "output_type": "display_data",
          "data": {
            "text/plain": [
              "<Figure size 432x288 with 2 Axes>"
            ],
            "image/png": "[encoded data removed]"
          },
          "metadata": {}
        },
        {
          "output_type": "stream",
          "name": "stdout",
          "text": [
            "<pyspc: (8734097909925)>\n"
          ]
        }
      ]
    },
    {
      "cell_type": "markdown",
      "source": [
        "### Example 2"
      ],
      "metadata": {
        "id": "L5QCQDd5A_G6"
      }
    },
    {
      "cell_type": "code",
      "source": [
        "rng = np.random.default_rng(seed=42)\n",
        "fake_data = rng.random((30, 5)) + 100\n",
        "\n",
        "a = spc(fake_data) + xbar_rbar() + rbar() + rules()\n",
        "print(a)"
      ],
      "metadata": {
        "id": "y1LBjdi_BAqz",
        "outputId": "fb81826e-22f1-43ef-8f81-386d02f70e0f",
        "colab": {
          "base_uri": "https://localhost:8080/",
          "height": 310
        }
      },
      "execution_count": 127,
      "outputs": [
        {
          "output_type": "display_data",
          "data": {
            "text/plain": [
              "<Figure size 432x288 with 2 Axes>"
            ],
            "image/png": "[encoded data removed]"
          },
          "metadata": {}
        },
        {
          "output_type": "stream",
          "name": "stdout",
          "text": [
            "<pyspc: (8770732984645)>\n"
          ]
        }
      ]
    },
    {
      "cell_type": "markdown",
      "source": [
        "# Process capability analysis"
      ],
      "metadata": {
        "id": "ZEKFI5b8CSUN"
      }
    },
    {
      "cell_type": "code",
      "source": [
        "LSL = 1;  USL = 11\n",
        "\n",
        "# Process capability potential\n",
        "Cp = (USL-LSL)/ (6 * sigmahat)\n",
        "\n",
        "# Lower capability index\n",
        "CpL = (Xbarbar - LSL) / (3 * sigmahat)\n",
        "\n",
        "# Upper capability index\n",
        "CpU = (USL - Xbarbar)/ (3 * sigmahat)\n",
        "\n",
        "# Process capability index\n",
        "Cpk = np.min([CpL, CpU])\n",
        "print('The process capability indices are:')\n",
        "print('Cp = {0:.2f}, CpL = {1:.2f}, CpU = {2:.2f}, Cpk = {3:.2f}'.format(Cp, CpL, CpU, Cpk))\n",
        "\n",
        "# Percentage of Nonconforming\n",
        "PNC = 1 - (norm.cdf((USL- Xbarbar) / sigmahat)- norm.cdf((LSL - Xbarbar) / sigmahat))\n",
        "print('The total percentage of nonconforming produced by the process is:')\n",
        "print('PNC = {:.4f}'.format(PNC))"
      ],
      "metadata": {
        "id": "oEbco5NrBZ-h",
        "outputId": "c6dcda49-9ed7-46a9-8d70-b60d398d7113",
        "colab": {
          "base_uri": "https://localhost:8080/"
        }
      },
      "execution_count": 130,
      "outputs": [
        {
          "output_type": "stream",
          "name": "stdout",
          "text": [
            "The process capability indices are:\n",
            "Cp = 1.05, CpL = 1.04, CpU = 1.06, Cpk = 1.04\n",
            "The total percentage of nonconforming produced by the process is:\n",
            "PNC = 0.0017\n"
          ]
        }
      ]
    }
  ]
}